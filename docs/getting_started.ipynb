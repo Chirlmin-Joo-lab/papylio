{
 "cells": [
  {
   "metadata": {
    "ExecuteTime": {
     "end_time": "2025-10-20T12:36:31.919336Z",
     "start_time": "2025-10-20T12:36:31.537007Z"
    },
    "nbsphinx": "hidden"
   },
   "cell_type": "code",
   "source": [
    "from pathlib import Path\n",
    "import sys\n",
    "papylio_path = Path.cwd()\n",
    "for i in range(20):\n",
    "    papylio_path = papylio_path.parent\n",
    "    if papylio_path.name == 'papylio':\n",
    "        break\n",
    "\n",
    "sys.path.append(str(papylio_path))\n",
    "import papylio as pp\n",
    "\n",
    "import matplotlib.pyplot as plt\n",
    "%matplotlib inline\n",
    "import numpy as np\n"
   ],
   "id": "c8fb0fd2fa8cbb25",
   "outputs": [],
   "execution_count": 5
  },
  {
   "metadata": {},
   "cell_type": "markdown",
   "source": [
    "# Getting started\n",
    "A regular analysis consists of mapping the emission channels, localizing molecules and extracting the intensity traces. The data for these steps is supposed to be collected in one directory and includes a series of tiff files. To get started, first import the library and create an 'Experiment'.\n"
   ],
   "id": "948499a15c46c45d"
  },
  {
   "cell_type": "code",
   "id": "8b89e6a6",
   "metadata": {
    "ExecuteTime": {
     "end_time": "2025-10-20T12:36:48.660418Z",
     "start_time": "2025-10-20T12:36:31.956110Z"
    }
   },
   "source": "exp = pp.Experiment()",
   "outputs": [
    {
     "name": "stderr",
     "output_type": "stream",
     "text": [
      "Import files: 100%|██████████| 3/3 [00:00<00:00, 32.69it/s]\n"
     ]
    },
    {
     "name": "stdout",
     "output_type": "stream",
     "text": [
      "\n",
      "File(Bead slide\\Bead slide) used as mapping\n",
      "\n",
      "Initialize experiment: \n",
      "C:\\Users\\jkerssemakers\\OneDrive - Delft University of Technology\\Documents\\GitHub\\papylio_testdata_mini\n"
     ]
    }
   ],
   "execution_count": 6
  },
  {
   "metadata": {},
   "cell_type": "markdown",
   "source": "When calling without any arguments a dialog box opens where you can select the main folder containing the single-molecule movies.  For this tutorial, we use an example dataset. When calling 'Experiment' with a specific path, best use this format: exp = pp.Experiment(r\"C:\\Users\\you\\mydir\\etc\\).",
   "id": "4803eff2767e0b88"
  },
  {
   "cell_type": "markdown",
   "id": "c8482d28",
   "metadata": {},
   "source": [
    "Actions\n",
    "\n",
    "* The code lists the path. In addition, by default, the first tiff file is assumed to be the one used for alignment (see below). In the example data, it is named 'Bead slide'.\n",
    "\n",
    "* Creating the experiment object will either load an existing configuration (config) file that is present in the selected path, or it will create a default config file which can then be adapted. This config file contains settings to be used in the various pipeline sections.\n",
    "\n",
    " The tiff files can be listed as follows:"
   ]
  },
  {
   "cell_type": "code",
   "id": "1dd71e3c7e04aac1",
   "metadata": {
    "ExecuteTime": {
     "end_time": "2025-10-20T12:36:48.804365Z",
     "start_time": "2025-10-20T12:36:48.777852Z"
    }
   },
   "source": [
    "exp.files.print()"
   ],
   "outputs": [
    {
     "name": "stdout",
     "output_type": "stream",
     "text": [
      "  0.  Bead slide\\Bead slide\n",
      "  1.  ssHJ1\\ssHJ1 TIRF 561 0001_100_frames\n",
      "  2.  ssHJ1\\ssHJ1 TIRF 561 0001_50_frames_mirror-1\n"
     ]
    }
   ],
   "execution_count": 7
  },
  {
   "cell_type": "markdown",
   "id": "10e92c08629f887f",
   "metadata": {},
   "source": "Next, a series of standard processing steps can be carried out. For all these steps, intermediate results are saved into the directory as set above."
  }
 ],
 "metadata": {
  "kernelspec": {
   "display_name": "papylio",
   "language": "python",
   "name": "python3"
  },
  "language_info": {
   "codemirror_mode": {
    "name": "ipython",
    "version": 3
   },
   "file_extension": ".py",
   "mimetype": "text/x-python",
   "name": "python",
   "nbconvert_exporter": "python",
   "pygments_lexer": "ipython3",
   "version": "3.9.15"
  }
 },
 "nbformat": 4,
 "nbformat_minor": 5
}
